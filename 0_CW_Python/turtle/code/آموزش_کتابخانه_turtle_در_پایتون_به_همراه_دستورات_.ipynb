{
  "cells": [
    {
      "cell_type": "markdown",
      "metadata": {
        "id": "view-in-github",
        "colab_type": "text"
      },
      "source": [
        "<a href=\"https://colab.research.google.com/github/sohrabkhanbadr/computerworkshop/blob/main/CW_Python/turtule/%D8%A2%D9%85%D9%88%D8%B2%D8%B4_%DA%A9%D8%AA%D8%A7%D8%A8%D8%AE%D8%A7%D9%86%D9%87_turtle_%D8%AF%D8%B1_%D9%BE%D8%A7%DB%8C%D8%AA%D9%88%D9%86_%D8%A8%D9%87_%D9%87%D9%85%D8%B1%D8%A7%D9%87_%D8%AF%D8%B3%D8%AA%D9%88%D8%B1%D8%A7%D8%AA_.ipynb\" target=\"_parent\"><img src=\"https://colab.research.google.com/assets/colab-badge.svg\" alt=\"Open In Colab\"/></a>"
      ]
    },
    {
      "cell_type": "markdown",
      "source": [
        "## آموزش کتابخانه turtle در پایتون به همراه دستورات اصلی\n",
        "\n",
        "کتابخانه turtle در پایتون یک ابزار قدرتمند برای گرافیک کامپیوتری است که به شما امکان می‌دهد اشکال و تصاویر مختلف را به سادگی ترسیم کنید. این کتابخانه برای مبتدیان مناسب است و یادگیری آن آسان است.\n",
        "\n",
        "**شروع کار با turtle:**\n",
        "\n",
        "1. ابتدا باید کتابخانه turtle را با استفاده از دستور import  وارد برنامه خود کنید:"
      ],
      "metadata": {
        "id": "5cSx2-13O02s"
      }
    },
    {
      "cell_type": "code",
      "source": [
        "import turtle"
      ],
      "outputs": [],
      "execution_count": null,
      "metadata": {
        "id": "DnOn3cCSO02w"
      }
    },
    {
      "cell_type": "markdown",
      "source": [
        "2. سپس، یک شیء turtle ایجاد کنید:"
      ],
      "metadata": {
        "id": "ZnLYh9VXO02x"
      }
    },
    {
      "cell_type": "code",
      "source": [
        "t = turtle.Turtle()"
      ],
      "outputs": [],
      "execution_count": null,
      "metadata": {
        "id": "Lyddpa6iO02x"
      }
    },
    {
      "cell_type": "markdown",
      "source": [
        "3. حالا می‌توانید از دستورات مختلف turtle برای ترسیم اشکال و تصاویر استفاده کنید.\n",
        "\n",
        "**دستورات اصلی turtle:**\n",
        "\n",
        "* **forward(distance):** لاک‌پشت را به اندازه distance به سمت جلو حرکت می‌دهد.\n",
        "* **backward(distance):** لاک‌پشت را به اندازه distance به سمت عقب حرکت می‌دهد.\n",
        "* **right(angle):** لاک‌پشت را به اندازه angle درجه به سمت راست می‌چرخاند.\n",
        "* **left(angle):** لاک‌پشت را به اندازه angle درجه به سمت چپ می‌چرخاند.\n",
        "* **penup():** قلم لاک‌پشت را بالا می‌برد و از ترسیم خطوط جلوگیری می‌کند.\n",
        "* **pendown():** قلم لاک‌پشت را پایین می‌آورد و شروع به ترسیم خطوط می‌کند.\n",
        "* **setcolor(color):** رنگ قلم لاک‌پشت را به color تغییر می‌دهد.\n",
        "* **begin_fill():** شروع به پر کردن یک شکل با رنگ فعلی قلم می‌کند.\n",
        "* **end_fill():** پر کردن شکل را متوقف می‌کند.\n",
        "* **clear():** صفحه را پاک می‌کند.\n",
        "\n",
        "**مثال:**"
      ],
      "metadata": {
        "id": "He5NYxVNO02y"
      }
    },
    {
      "cell_type": "code",
      "source": [
        "import turtle\n",
        "\n",
        "t = turtle.Turtle()\n",
        "\n",
        "t.forward(100)\n",
        "t.right(90)\n",
        "t.forward(100)\n",
        "t.right(90)\n",
        "t.forward(100)\n",
        "t.right(90)\n",
        "t.forward(100)\n",
        "\n",
        "t.end_fill()\n",
        "\n",
        "turtle.done()"
      ],
      "outputs": [],
      "execution_count": null,
      "metadata": {
        "id": "uwE_KJGzO02y"
      }
    },
    {
      "cell_type": "markdown",
      "source": [
        "این کد یک مربع را با استفاده از دستورات turtle ترسیم می‌کند.\n",
        "\n",
        "**نکات:**\n",
        "\n",
        "* برای تغییر سرعت لاک‌پشت می‌توانید از دستور speed(speed) استفاده کنید.\n",
        "* برای تغییر اندازه قلم لاک‌پشت می‌توانید از دستور pensize(size) استفاده کنید.\n",
        "* برای پر کردن اشکال با رنگ‌های مختلف می‌توانید از دستور fillcolor(color) استفاده کنید.\n",
        "* برای جابجایی لاک‌پشت به یک نقطه دیگر بدون ترسیم خط می‌توانید از دستور goto(x, y) استفاده کنید.\n",
        "\n",
        "**منابع:**\n",
        "\n",
        "* آموزش کتابخانه turtle در پایتون: [نشانی وب نامعتبر برداشته شد]\n",
        "* مستندات کتابخانه turtle: [https://docs.python.org/3/library/turtle.html](https://docs.python.org/3/library/turtle.html)\n",
        "\n",
        "**تمرین:**\n",
        "\n",
        "با استفاده از دستورات turtle، اشکال زیر را ترسیم کنید:\n",
        "\n",
        "* مثلث\n",
        "* دایره\n",
        "* ستاره\n",
        "* قلب\n",
        "\n",
        "**موفق باشید!**"
      ],
      "metadata": {
        "id": "PCGgYtTeO02y"
      }
    },
    {
      "cell_type": "markdown",
      "source": [
        "<div class=\"md-recitation\">\n",
        "  Sources\n",
        "  <ol>\n",
        "  <li><a href=\"https://github.com/MeghaRajan123456/MeghaRajan123456\">https://github.com/MeghaRajan123456/MeghaRajan123456</a></li>\n",
        "  </ol>\n",
        "</div>"
      ],
      "metadata": {
        "id": "6ZHVGO9bO02z"
      }
    }
  ],
  "metadata": {
    "colab": {
      "provenance": [],
      "include_colab_link": true
    },
    "kernelspec": {
      "display_name": "Python 3",
      "name": "python3"
    }
  },
  "nbformat": 4,
  "nbformat_minor": 0
}
